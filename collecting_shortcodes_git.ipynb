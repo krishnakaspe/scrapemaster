{
 "cells": [
  {
   "attachments": {},
   "cell_type": "markdown",
   "metadata": {},
   "source": [
    "# 1 - Find shortcodes of all posts based on hashtag without selenium\n",
    "* A shortcode represents a post \n",
    "* They are present in the sourcecode \n",
    "* Append them to a list and print\n",
    "## 1.1-how to find shortcodes\n",
    "    1. Open instagram in the webbrowser\n",
    "    2. Search for the hashtag required <font color=red>(ex:#bike,#fashion,#photography etc)</font>\n",
    "    3. Find the source code of the hashtag or ctrl+u in browser (used google chrome)\n",
    "      * Search for shortcode by pressing ctrl+f in the source code.\n",
    "      * The amount will be approximately 75 that is the limit for browser.\n",
    "      * So, 75 is equivalent to 75 posts.\n",
    "\n",
    "          "
   ]
  },
  {
   "cell_type": "markdown",
   "metadata": {},
   "source": [
    "## Simple scrape code to get short codes from given hastag link\n",
    " - Replace required hashtag in the place of bangalore\n",
    " - to get short codes \n",
    "### OUTPUT:"
   ]
  },
  {
   "cell_type": "code",
   "execution_count": 2,
   "metadata": {
    "scrolled": true
   },
   "outputs": [
    {
     "name": "stdout",
     "output_type": "stream",
     "text": [
      "BuQ3_2ghgjA\n",
      "BuQ3-jnHYvt\n",
      "BuQ38U1FUpg\n",
      "BuQ38JkFhqB\n",
      "BuQ38JfFSG4\n",
      "BuQ33kbA5AY\n",
      "BuQ325xFFJy\n",
      "BuQ32CsHk-P\n",
      "BuQ3y2ZlcMI\n",
      "BuQ3y2RlegX\n",
      "BuQ3yJiHwuS\n",
      "BuQ3vIXF-yI\n",
      "BuQ3rOzAiFR\n",
      "BuQ3FgdnZGo\n",
      "BuQ3srfgsh7\n",
      "BuQ3sIgFySc\n",
      "BuQ3rMYAGr5\n",
      "BuQ3o-2AWLu\n",
      "BuQ3m5llgyK\n",
      "BuQ3kvPA7c-\n",
      "BuQ3kNODvmp\n",
      "BuQ3jZzBdKN\n",
      "BuQ3jS6lKTY\n",
      "BuQ3jGKgJZ_\n",
      "BuQ3iHChD8r\n",
      "BuQ3gxfjAwx\n",
      "BuQ3fOXA39n\n",
      "BuQ3cvFAVX5\n",
      "BuQ3cE8Akfy\n",
      "BuQ3R7OgNpH\n",
      "BuQ3bgBlsik\n",
      "BuQ3bMWnAXo\n",
      "BuQ3E2VAEW6\n",
      "BuQ3ZuQH4zf\n",
      "BuQ3ZG7nTMR\n",
      "BuQ3Y8yAQhn\n",
      "BuQ3XSrBoOX\n",
      "BuQ3W5Pl7vS\n",
      "BuQ3TsYHdtf\n",
      "BuQ3SrXlaQn\n",
      "BuQ3SpWnhGt\n",
      "BuQ3SAaA3fR\n",
      "BuQ3Q5oFf0V\n",
      "BuQ3PMgAKIp\n",
      "BuQ3OUagOt5\n",
      "BuQ3N2QBic0\n",
      "BuQ3No-hgYt\n",
      "BuQ3NYgHp4N\n",
      "BuQ3MAtFPiA\n",
      "BuQ3LBbhFf9\n",
      "BuQ3K8YlFSo\n",
      "BuQ3H2QgUbP\n",
      "BuQ3EmiAng4\n",
      "BuQ3EMul03p\n",
      "BuQ3DS2ALWK\n",
      "BuQ3DTynLCo\n",
      "BuQ3BTKgFLu\n",
      "BuQ28oSAEBq\n",
      "BuQ266YgLag\n",
      "BuQ24WqgbOB\n",
      "BuQ22p1A4cm\n",
      "BuQ21R1A6tM\n",
      "BuQ2zU2AvEQ\n",
      "BuQ2vs0l_sc\n",
      "BuQzj2SgnqF\n",
      "BuQu-v9hu4e\n",
      "BuQs6Avlfje\n",
      "BuO2AVHHSmB\n",
      "BuO1vEwHd7_\n",
      "BuF_tnuB-bB\n",
      "BuQ33kbA5AY\n",
      "BuQpxLkgDld\n",
      "BuQ1rukA1yL\n",
      "BuQa4xzg9JY\n",
      "BuQ1LxBBpVa\n",
      "BuQyPVhBBaj\n",
      "BuQzLAKFgPS\n",
      "BuP6UOpg3T0\n",
      "BuQzKbPnpOC\n",
      "79\n"
     ]
    }
   ],
   "source": [
    "\n",
    "#This code prints the shortcode from given source file\n",
    "#Author:KT\n",
    "#status:working\n",
    "lines = [] \n",
    " \n",
    "#csv_file=open('shortcode.csv','w')  #remove all csv related comments to write o/p to file\n",
    "import requests\n",
    "lit=['bangalore']#hashtag\n",
    "\n",
    "r=requests.get('https://www.instagram.com/explore/tags/'+lit[0])\n",
    "\n",
    "import csv,re\n",
    "\n",
    "matches=re.findall(r'\\\"(.+?)\\\"',str(r.text))\n",
    "if \"shortcode\" in matches:\n",
    "    indices = [i for i, x in enumerate(matches) if x == \"shortcode\"]#gets indices of all the shortcode word in file\n",
    "for i in range(len(indices)):\n",
    "    print(matches[indices[i]+1])\n",
    "    #csv_file.write(matches[indices[i]+1]+'\\n')\n",
    "#csv_file.close()\n",
    "print(len(indices)) \n"
   ]
  },
  {
   "cell_type": "markdown",
   "metadata": {},
   "source": [
    "### 1.3 As you can see the output is limited to only <font color=red>79</font> even the number of posts present are more than <font color=red>4,892,541</font>\n",
    " * This happens because the browser loads initially this many posts for the user to see \n",
    " * When the user reaches near to the 79th post then the next 79 are loaded  \n",
    " * So, to over come this limitation we use \"SELENIUM\"\n",
    "# 2.  Infinite scroll using selenium\n",
    "  #### Why selenium?\n",
    "    * As mentioned in 1.3 to overcome to browser only 79 shortcode limitation.\n",
    "  #### How using selenium?\n",
    "    * Selenium is used for automating the browser you can make the code to scroll,click,type \n",
    "        and many other functionalities.\n",
    "    * We can auto scroll using selenium making the browser think we are a human in parallel all the \n",
    "        shortcodes will be  loaded by browser from which we can take n number of shortcode."
   ]
  },
  {
   "cell_type": "code",
   "execution_count": null,
   "metadata": {},
   "outputs": [],
   "source": []
  }
 ],
 "metadata": {
  "kernelspec": {
   "display_name": "Python 3",
   "language": "python",
   "name": "python3"
  },
  "language_info": {
   "codemirror_mode": {
    "name": "ipython",
    "version": 3
   },
   "file_extension": ".py",
   "mimetype": "text/x-python",
   "name": "python",
   "nbconvert_exporter": "python",
   "pygments_lexer": "ipython3",
   "version": "3.7.1"
  }
 },
 "nbformat": 4,
 "nbformat_minor": 2
}
