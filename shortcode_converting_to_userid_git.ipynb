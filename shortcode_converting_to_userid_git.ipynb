{
 "cells": [
  {
   "cell_type": "markdown",
   "metadata": {},
   "source": [
    "## Shortcode to user id PHASE II: \n",
    "In the first file collecting any number of shortcodes has been made possible\n",
    "   Now, we have to convert the shortcodes to userids the sole purpose of why we have collected them\n",
    "The short codes might be repeated and you can generally observe when you search for a hashtag we can find a same user posting many post using same hastag which leads to repetitions in the user id.\n",
    "## Note :\n",
    "The shortcode represents the post not the userid .\n",
    "It is the job of the scraper to find the source code of the shortcode then find userid from it.\n",
    "\n",
    "## FILES:\n",
    "\n",
    "|file | funtionality\n",
    "|--|--|\n",
    "|Useragent.txt |Contains user agents \n",
    "|whatshotbangalore.csv|Contains shortcodes of #whatshotbangalore around 2000.\n"
   ]
  },
  {
   "cell_type": "code",
   "execution_count": 6,
   "metadata": {
    "scrolled": true
   },
   "outputs": [
    {
     "name": "stdout",
     "output_type": "stream",
     "text": [
      "2019-02-24 18:44:32.223106\n",
      "1 BuHI5XzFIHD foodtravelpedia_\n",
      "2 BuGx20LlCM4 my_table_of_food\n",
      "3 BuGlq9RFAYC foodtravelpedia_\n",
      "4 BuGKFPJFPDS whatshotbangalore\n",
      "5 BuFmSeOFmXI foodloveisforever\n",
      "6 BuEToE5F_Db whatshotbangalore\n",
      "7 BuEJTEVABtj zoeys.the.cafe\n",
      "8 BuD3DlPlqDb whatshotbangalore\n",
      "9 BuDdqCLltXJ culinariumindia\n",
      "10 BuDZ80slQ0H bengalurucoffeeandteaclub\n",
      "11 BuDJGFDllwC whatshotbangalore\n",
      "12 BuDIfxvFrVF foodtravelpedia_\n",
      "13 BuDEpuAFyi7 foodloveisforever\n",
      "14 BuBuVaeFhgU foodietoast\n",
      "15 BuBrcQxFVsU foodtravelpedia_\n",
      "16 BuBkd9fFjDV searockblr\n",
      "17 BuBgiamlxGE whatshotbangalore\n",
      "18 BuBSc9IF8AA cassecrouteblr\n",
      "19 BuBEd7fFPkd wolfishindia\n",
      "20 BuBAY8mAY-p zoeys.the.cafe\n",
      "Taken Shortcodes: 20\n",
      "Valid Shortcodes: 20\n",
      "Broken Shortcodes: 0\n",
      "Unique Shortcodes: 11\n",
      "-----------------------------------------------------------\n"
     ]
    }
   ],
   "source": [
    "\n",
    "import requests\n",
    "import csv\n",
    "import re\n",
    "import urllib.request\n",
    "from bs4 import BeautifulSoup\n",
    "import random,time,datetime\n",
    "\n",
    "UDcount=0\n",
    "print(datetime.datetime.now())\n",
    "user_agent_list = []\n",
    "useragent=open('Useragent.txt','r')\n",
    "for ug in useragent:\n",
    "    user_agent_list.append(ug.strip())\n",
    "users=[]\n",
    "backup=[]\n",
    "sc=[]\n",
    "name='whatshotbangalore'\n",
    "f=open('whatshotbangalore.csv','r',encoding='utf-8')\n",
    "for line in f:\n",
    "    sc.append(line.strip())\n",
    "for i in range (0,len(sc)):\n",
    "    user_agent=user_agent_list[random.randint(0,4656)]\n",
    "    row=[]\n",
    "    if i%5==0:\n",
    "        user_agent=user_agent_list[random.randint(0,4656)]\n",
    "    try:   \n",
    "        r = requests.get(\"https://www.instagram.com/p/\"+str(sc[i]),headers={'User-Agent':user_agent })\n",
    "    except OSError:\n",
    "        print('Error at',i)\n",
    "        user_agent=user_agent_list[random.randint(0,4656)]\n",
    "        r = requests.get(\"https://www.instagram.com/p/\"+sc[i],headers={'User-Agent':user_agent })\n",
    "    if r.status_code is 200 :\n",
    "        soup = BeautifulSoup(r.text)\n",
    "    else:\n",
    "        continue\n",
    "    text2=[]\n",
    "    data = soup.find_all('link', attrs={'rel': 'canonical'})\n",
    "    text = data[0].get('href').split('/')\n",
    "    if text[3]=='p':\n",
    "        data2 = soup.find_all('meta', attrs={'property': 'og:description'})\n",
    "        text2 = data2[0].get('content').split()\n",
    "        for k in range(0,len(text2)):\n",
    "            if '(@' in text2[k]:\n",
    "                userid = text2[k].replace('(','').replace('@','').replace(')','')\n",
    "                break\n",
    "    else:\n",
    "        userid=text[3]\n",
    "    users.append(userid)\n",
    "    print(i+1,sc[i],userid)\n",
    "print('Taken Shortcodes:',len(sc))\n",
    "print('Valid Shortcodes:',len(users))\n",
    "print('Broken Shortcodes:',(len(sc)-len(users)))\n",
    "users=list(set(users))\n",
    "backup=users\n",
    "print('Unique Shortcodes:',len(users))\n",
    "print(datetime.datetime.now())\n",
    "print('-----------------------------------------------------------')\n"
   ]
  },
  {
   "cell_type": "markdown",
   "metadata": {},
   "source": [
    "## The above output has printed shortcode and their user id collected from the source code of shortcode\n",
    "### Output description:\n",
    "|Shortcodes|count|description|\n",
    "|--|--|--|\n",
    "|Taken Shortcodes|20 |file input was 20\n",
    "|Valid Shortcodes| 20|Vaild is 20 because the <font color=blue>\"link\"</font> were not broken(blocked) and status code 200\n",
    "|Broken Shortcodes| 0 |all have status code 200\n",
    "|Unique Shortcodes| 11 |after applying set to the list\n"
   ]
  },
  {
   "cell_type": "markdown",
   "metadata": {},
   "source": [
    "# Phase III in userid to user details.ipynb......"
   ]
  },
  {
   "cell_type": "code",
   "execution_count": null,
   "metadata": {},
   "outputs": [],
   "source": []
  }
 ],
 "metadata": {
  "kernelspec": {
   "display_name": "Python 3",
   "language": "python",
   "name": "python3"
  },
  "language_info": {
   "codemirror_mode": {
    "name": "ipython",
    "version": 3
   },
   "file_extension": ".py",
   "mimetype": "text/x-python",
   "name": "python",
   "nbconvert_exporter": "python",
   "pygments_lexer": "ipython3",
   "version": "3.7.1"
  }
 },
 "nbformat": 4,
 "nbformat_minor": 2
}
